{
 "cells": [
  {
   "cell_type": "code",
   "execution_count": 6,
   "metadata": {},
   "outputs": [],
   "source": [
    "import pandas as pd\n",
    "import textdistance\n",
    "\n",
    "def clean_typos(input_file, output_file, column_to_clean):\n",
    "    # Load the Excel file into a pandas DataFrame\n",
    "    df = pd.read_excel(input_file)\n",
    "\n",
    "    # Function to find the most similar string in a list\n",
    "    def find_most_similar(input_str, str_list):\n",
    "        similarities = [(textdistance.jaccard.normalized_similarity(input_str, s), s) for s in str_list]\n",
    "        similarities.sort(reverse=True)\n",
    "        return similarities[0][1]\n",
    "\n",
    "    # Clean typos in the specified column\n",
    "    df[column_to_clean] = df[column_to_clean].apply(\n",
    "        lambda x: find_most_similar(x, df[column_to_clean].tolist())\n",
    "    )\n",
    "\n",
    "    # Save the cleaned DataFrame to a new Excel file\n",
    "    df.to_excel(output_file, index=False)\n",
    "\n",
    "if __name__ == \"__main__\":\n",
    "    # Replace 'your_input_file.xlsx' and 'your_output_file.xlsx' with the actual file names\n",
    "    input_file = 'mistakes.xlsx'\n",
    "    output_file = 'nonmistakes.xlsx'\n",
    "    \n",
    "    # Replace 'column_to_clean' with the actual column name containing text with typos\n",
    "    column_to_clean = 'Cities'\n",
    "\n",
    "    clean_typos(input_file, output_file, column_to_clean)\n",
    "\n"
   ]
  },
  {
   "cell_type": "code",
   "execution_count": 12,
   "metadata": {},
   "outputs": [],
   "source": [
    "import pandas as pd\n",
    "\n",
    "def fix_mistakes(input_file, output_file, column_to_fix):\n",
    "    # Load the Excel file into a pandas DataFrame\n",
    "    df = pd.read_excel(input_file)\n",
    "\n",
    "    # Define a dictionary to map incorrect values to corrected values\n",
    "    cities_correction_dict = {\n",
    "        'san diego': 'San Diego',\n",
    "        'sna francisco': 'San Francisco',\n",
    "        'california' : 'California',\n",
    "        # Add more entries as needed\n",
    "    }\n",
    "    countries_correction_dict = {\n",
    "            'US' : 'United States'\n",
    "            # Add more entries as needed\n",
    "        }\n",
    "    states_correction_dict = {\n",
    "            'california' : 'California',\n",
    "    }\n",
    "    # Apply the corrections to the specified column\n",
    "    df['Cities'] = df['Cities'].replace(cities_correction_dict)\n",
    "    df['Countries'] = df['Countries'].replace(countries_correction_dict)\n",
    "    df['States'] = df['States'].replace(states_correction_dict)\n",
    "\n",
    "    # Save the DataFrame with corrections to a new Excel file\n",
    "    df.to_excel(output_file, index=False)\n",
    "\n",
    "if __name__ == \"__main__\":\n",
    "    # Replace 'mistakes.xlsx' and 'nonmistakes_fixed.xlsx' with your actual file names\n",
    "    input_file = 'mistakes.xlsx'\n",
    "    output_file = 'nonmistakes_fixed.xlsx'\n",
    "    \n",
    "    # Replace 'Cities' with the actual column name containing mistakes\n",
    "    column_to_fix = ['Cities', 'Countries','States']\n",
    "\n",
    "    fix_mistakes(input_file, output_file, column_to_fix)\n"
   ]
  },
  {
   "cell_type": "code",
   "execution_count": 16,
   "metadata": {},
   "outputs": [
    {
     "name": "stdout",
     "output_type": "stream",
     "text": [
      "12 found at index 9\n"
     ]
    }
   ],
   "source": [
    "def linear_search(arr, my_target):\n",
    "    \"\"\"\n",
    "    Linear search algorithm.\n",
    "    \n",
    "    Parameters:\n",
    "    - arr (list): The list to search.\n",
    "    - target: The value to search for.\n",
    "    \n",
    "    Returns:\n",
    "    - index: Index of the target if found, -1 otherwise.\n",
    "    \"\"\"\n",
    "    for i in range(len(arr)):\n",
    "        if arr[i] == my_target:\n",
    "            return i\n",
    "    return -1\n",
    "my_list = [3,4,8,11,55,6,7,88,33,12,48,57]\n",
    "my_target = 12\n",
    "# Example usage:\n",
    "result = linear_search(my_list, my_target)\n",
    "\n",
    "\n",
    "if result != -1:\n",
    "    print(f\"{my_target} found at index {result}\")\n",
    "else:\n",
    "    print(f\"{my_target} not found in the list\")\n"
   ]
  },
  {
   "cell_type": "code",
   "execution_count": 32,
   "metadata": {},
   "outputs": [
    {
     "name": "stdout",
     "output_type": "stream",
     "text": [
      "Target value found at index 5\n"
     ]
    }
   ],
   "source": [
    "#linear searching algirthm basic version\n",
    "\n",
    "def search_linear(array,target):\n",
    "\n",
    "    for i in range(len(array)):\n",
    "        if array[i]==target:\n",
    "\n",
    "             return i\n",
    "    return -1\n",
    "\n",
    "list = [3, 1, 4, 1, 5, 9, 2, 6, 5, 3, 5]   \n",
    "target = int(input(\"bir değer girin:\"))\n",
    "results = search_linear(list, target)\n",
    "\n",
    "if results != -1:\n",
    "    print(f\"Target value found at index {results}\")\n",
    "else:\n",
    "    print(\"Target value not found in the list\")\n",
    "\n"
   ]
  },
  {
   "cell_type": "markdown",
   "metadata": {},
   "source": [
    "#### searching algorithm on file"
   ]
  }
 ],
 "metadata": {
  "kernelspec": {
   "display_name": "base",
   "language": "python",
   "name": "python3"
  },
  "language_info": {
   "codemirror_mode": {
    "name": "ipython",
    "version": 3
   },
   "file_extension": ".py",
   "mimetype": "text/x-python",
   "name": "python",
   "nbconvert_exporter": "python",
   "pygments_lexer": "ipython3",
   "version": "3.9.12"
  }
 },
 "nbformat": 4,
 "nbformat_minor": 2
}
